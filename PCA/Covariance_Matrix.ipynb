{
  "nbformat": 4,
  "nbformat_minor": 0,
  "metadata": {
    "colab": {
      "provenance": [],
      "authorship_tag": "ABX9TyP6hWj1j2aLshJjp9tb97DW",
      "include_colab_link": true
    },
    "kernelspec": {
      "name": "python3",
      "display_name": "Python 3"
    },
    "language_info": {
      "name": "python"
    }
  },
  "cells": [
    {
      "cell_type": "markdown",
      "metadata": {
        "id": "view-in-github",
        "colab_type": "text"
      },
      "source": [
        "<a href=\"https://colab.research.google.com/github/IamBhanuYenumula/Byen_DataScience_expo/blob/main/Covariance_Matrix.ipynb\" target=\"_parent\"><img src=\"https://colab.research.google.com/assets/colab-badge.svg\" alt=\"Open In Colab\"/></a>"
      ]
    },
    {
      "cell_type": "code",
      "execution_count": 11,
      "metadata": {
        "colab": {
          "base_uri": "https://localhost:8080/"
        },
        "id": "Fqn-Ql7PM72s",
        "outputId": "68cf3fbf-95bc-492a-93cd-18a14698461e"
      },
      "outputs": [
        {
          "output_type": "stream",
          "name": "stdout",
          "text": [
            "\n",
            " Covariance Matrix:\n",
            "[[ 0.68569351 -0.042434    1.27431544  0.51627069]\n",
            " [-0.042434    0.18997942 -0.32965638 -0.12163937]\n",
            " [ 1.27431544 -0.32965638  3.11627785  1.2956094 ]\n",
            " [ 0.51627069 -0.12163937  1.2956094   0.58100626]]\n"
          ]
        }
      ],
      "source": [
        "import numpy as np\n",
        "from sklearn.datasets import load_iris\n",
        "\n",
        "# load the Iris dataset\n",
        "iris = load_iris()\n",
        "X =iris.data\n",
        "m,n = X.shape\n",
        "\n",
        "# calculate the mean vector\n",
        "X_mean = np.mean(X,axis = 0)\n",
        "\n",
        "# Center the data matrix\n",
        "X_centered = X - X_mean\n",
        "\n",
        "##Calculate the covariance matrix\n",
        "C = np.dot(X_centered.T,X_centered) / (m - 1)\n",
        "\n",
        "#Display covariance matrix:\n",
        "print(\"\\n Covariance Matrix:\")\n",
        "print(C)"
      ]
    }
  ]
}