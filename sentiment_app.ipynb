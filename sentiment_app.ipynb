{
  "nbformat": 4,
  "nbformat_minor": 0,
  "metadata": {
    "colab": {
      "provenance": [],
      "authorship_tag": "ABX9TyNV66GzL9ruMnKSg7CO22Ds",
      "include_colab_link": true
    },
    "kernelspec": {
      "name": "python3",
      "display_name": "Python 3"
    },
    "language_info": {
      "name": "python"
    }
  },
  "cells": [
    {
      "cell_type": "markdown",
      "metadata": {
        "id": "view-in-github",
        "colab_type": "text"
      },
      "source": [
        "<a href=\"https://colab.research.google.com/github/IamBhanuYenumula/Byen_DataScience_expo/blob/main/sentiment_app.ipynb\" target=\"_parent\"><img src=\"https://colab.research.google.com/assets/colab-badge.svg\" alt=\"Open In Colab\"/></a>"
      ]
    },
    {
      "cell_type": "code",
      "execution_count": null,
      "metadata": {
        "colab": {
          "base_uri": "https://localhost:8080/"
        },
        "id": "k0Iin5sRX2xV",
        "outputId": "cd0d002c-0884-4211-94f5-32279e0ca30b"
      },
      "outputs": [
        {
          "output_type": "stream",
          "name": "stdout",
          "text": [
            "Collecting nlpcloud\n",
            "  Downloading nlpcloud-1.1.46-py3-none-any.whl.metadata (1.1 kB)\n",
            "Requirement already satisfied: requests in /usr/local/lib/python3.10/dist-packages (from nlpcloud) (2.32.3)\n",
            "Requirement already satisfied: charset-normalizer<4,>=2 in /usr/local/lib/python3.10/dist-packages (from requests->nlpcloud) (3.3.2)\n",
            "Requirement already satisfied: idna<4,>=2.5 in /usr/local/lib/python3.10/dist-packages (from requests->nlpcloud) (3.7)\n",
            "Requirement already satisfied: urllib3<3,>=1.21.1 in /usr/local/lib/python3.10/dist-packages (from requests->nlpcloud) (2.0.7)\n",
            "Requirement already satisfied: certifi>=2017.4.17 in /usr/local/lib/python3.10/dist-packages (from requests->nlpcloud) (2024.7.4)\n",
            "Downloading nlpcloud-1.1.46-py3-none-any.whl (3.9 kB)\n",
            "Installing collected packages: nlpcloud\n",
            "Successfully installed nlpcloud-1.1.46\n"
          ]
        }
      ],
      "source": [
        "!pip install nlpcloud"
      ]
    },
    {
      "cell_type": "code",
      "source": [
        "import nlpcloud\n",
        "\n",
        "class NLPApp:\n",
        "\n",
        "  def __init__(self):\n",
        "\n",
        "    self.__database = {}\n",
        "    self.__first_menu()\n",
        "\n",
        "  def __first_menu(self):\n",
        "\n",
        "    first_input = input(\n",
        "    \"\"\" Hi! how would you like to proceed?\n",
        "    1. Not a member? Register\n",
        "    2. Already a member? Login\n",
        "    3. Exit !\n",
        "    \"\"\")\n",
        "    if first_input == '1':\n",
        "      self.__register()\n",
        "    elif first_input == '2':\n",
        "      self.__login()\n",
        "    else:\n",
        "      exit()\n",
        "\n",
        "  def __register(self):\n",
        "    print('register')\n",
        "    name = input('enter name')\n",
        "    email = input('enter email')\n",
        "    password = input('enter password')\n",
        "\n",
        "    if email in self.__database:\n",
        "      print(\"email already exist\")\n",
        "    else:\n",
        "      self.__database[email] = [name,password]\n",
        "      print(\"Registration sucessful! Please login to continue forward \")\n",
        "      print(self.__database)\n",
        "      self.__first_menu()\n",
        "\n",
        "  def __login(self):\n",
        "    print('login')\n",
        "    email = input('enter email')\n",
        "    password = input('enter password')\n",
        "\n",
        "    if email in self.__database:\n",
        "      if self.__database[email][1] == password:\n",
        "        print('login sucessful !')\n",
        "        self.__second_menu()\n",
        "      else:\n",
        "        print('wrong password. Try again!')\n",
        "        self.__login()\n",
        "    else:\n",
        "      print('This email is not registered')\n",
        "      self.__first_menu()\n",
        "\n",
        "  def __second_menu(self):\n",
        "\n",
        "    second_input = input(\n",
        "    \"\"\" Hi! how would you like to proceed?\n",
        "    1. NER\n",
        "    2. Language Detection\n",
        "    3. Sentiment Analysis\n",
        "    4. Logout\n",
        "    \"\"\")\n",
        "    if second_input == '1':\n",
        "      self.__ner()\n",
        "    elif second_input == '2':\n",
        "      self.__language_detection()\n",
        "    elif second_input == '3':\n",
        "      self.__sentiment_analysis()\n",
        "    else:\n",
        "      exit()\n",
        "\n",
        "  def __sentiment_analysis(self):\n",
        "    para = input('Enter the paragraph')\n",
        "    client = nlpcloud.Client(\"distilbert-base-uncased-emotion\", \"d91b9dea5f62a6c248226e55c11e08e4acc682dc\", gpu=False)\n",
        "    response = client.sentiment(para)\n",
        "    l =[]\n",
        "    for i in result['scored_labels']:\n",
        "      l.append((i['score']))\n",
        "\n",
        "    index = sorted(list(enumerate(l)),key=lambda X:X[1],reverse=True)[0][0]\n",
        "    print(result['scored_labels'][index]['label'])\n",
        "\n",
        "obj = NLPApp()"
      ],
      "metadata": {
        "id": "uDk5p4N3YZyR",
        "colab": {
          "base_uri": "https://localhost:8080/"
        },
        "outputId": "9e31597b-05b5-47bb-cabc-91173bd31f96"
      },
      "execution_count": 21,
      "outputs": [
        {
          "output_type": "stream",
          "name": "stdout",
          "text": [
            " Hi! how would you like to proceed?\n",
            "    1. Not a member? Register\n",
            "    2. Already a member? Login\n",
            "    3. Exit !\n",
            "    1\n",
            "register\n",
            "enter name1\n",
            "enter email1\n",
            "enter password1\n",
            "Registration sucessful! Please login to continue forward \n",
            "{'1': ['1', '1']}\n",
            " Hi! how would you like to proceed?\n",
            "    1. Not a member? Register\n",
            "    2. Already a member? Login\n",
            "    3. Exit !\n",
            "    2\n",
            "login\n",
            "enter email1\n",
            "enter password1\n",
            "login sucessful !\n",
            " Hi! how would you like to proceed?\n",
            "    1. NER\n",
            "    2. Language Detection\n",
            "    3. Sentiment Analysis\n",
            "    4. Logout\n",
            "    3\n",
            "Enter the paragraphThere is very little that I can add to the reviews on here, that have explained what is so wonderful about The Godfather so well. I have seen many amazing movies, as well as some clunkers, but The Godfather was beyond amazing. There are so many images, details and scenes that I seriously cannot get out of my head since watching it for the first time just nine hours ago. The Godfather is so incredibly well-made and acted that it stands out among the rest of those other amazing films I've seen, so much so I couldn't think of a single flaw, and I am struggling to think of a good enough reason to why I didn't see this film before now.\n",
            "anger\n"
          ]
        }
      ]
    },
    {
      "cell_type": "code",
      "source": [
        "result = {'scored_labels': [{'label': 'anger', 'score': 0.7727993130683899}, {'label': 'joy', 'score': 0.2074863165616989}, {'label': 'sadness', 'score': 0.00844584684818983}, {'label': 'fear', 'score': 0.005367488134652376}, {'label': 'love', 'score': 0.0037068792153149843}, {'label': 'surprise', 'score': 0.0021942381281405687}]}\n",
        "l =[]\n",
        "for i in result['scored_labels']:\n",
        "  l.append((i['score']))\n",
        "\n",
        "index = sorted(list(enumerate(l)),key=lambda X:X[1],reverse=True)[0][0]\n",
        "print(result['scored_labels'][index]['label'])"
      ],
      "metadata": {
        "colab": {
          "base_uri": "https://localhost:8080/"
        },
        "id": "R9dfDSTus-TF",
        "outputId": "57689035-676a-40d0-ec76-1eede73de3d9"
      },
      "execution_count": 19,
      "outputs": [
        {
          "output_type": "stream",
          "name": "stdout",
          "text": [
            "anger\n"
          ]
        }
      ]
    }
  ]
}