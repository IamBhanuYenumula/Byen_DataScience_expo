{
  "nbformat": 4,
  "nbformat_minor": 0,
  "metadata": {
    "colab": {
      "provenance": [],
      "authorship_tag": "ABX9TyMx1TU2YmfOOx28cTYOSQCd",
      "include_colab_link": true
    },
    "kernelspec": {
      "name": "python3",
      "display_name": "Python 3"
    },
    "language_info": {
      "name": "python"
    }
  },
  "cells": [
    {
      "cell_type": "markdown",
      "metadata": {
        "id": "view-in-github",
        "colab_type": "text"
      },
      "source": [
        "<a href=\"https://colab.research.google.com/github/IamBhanuYenumula/Byen_DataScience_expo/blob/main/MutualInformation_Feature_Selection.ipynb\" target=\"_parent\"><img src=\"https://colab.research.google.com/assets/colab-badge.svg\" alt=\"Open In Colab\"/></a>"
      ]
    },
    {
      "cell_type": "code",
      "source": [
        "from sklearn.feature_selection import mutual_info_classif\n",
        "from sklearn.datasets import load_iris\n",
        "import pandas as pd\n",
        "\n",
        "# load dataset\n",
        "iris = load_iris()\n",
        "X = iris['data']\n",
        "y =  iris['target']\n",
        "\n",
        "# compute mutual information\n",
        "mi = mutual_info_classif(X,y)\n",
        "\n",
        "# print mutual information\n",
        "for i,mi_value in enumerate(mi):\n",
        "  print(f\"feature {i}: mutual information = {mi_value}\")"
      ],
      "metadata": {
        "colab": {
          "base_uri": "https://localhost:8080/"
        },
        "id": "l5B4KgVfacgh",
        "outputId": "05aa4409-c091-4795-d918-0b58cd045852"
      },
      "execution_count": 2,
      "outputs": [
        {
          "output_type": "stream",
          "name": "stdout",
          "text": [
            "feature 0: mutual information = 0.5269479891342059\n",
            "feature 1: mutual information = 0.2316292907883768\n",
            "feature 2: mutual information = 0.9831624415954223\n",
            "feature 3: mutual information = 0.9906059917696102\n"
          ]
        }
      ]
    },
    {
      "cell_type": "code",
      "source": [
        "from sklearn.feature_selection import SelectKBest, mutual_info_classif\n",
        "from sklearn.datasets import load_iris\n",
        "\n",
        "# load dataset\n",
        "iris = load_iris()\n",
        "X = iris['data']\n",
        "y =  iris['target']\n",
        "\n",
        "# Create SelectKBest feature selector\n",
        "selector = SelectKBest(mutual_info_classif, k=2)\n",
        "\n",
        "# fit and transform\n",
        "X_new = selector.fit_transform(X,y)\n",
        "\n",
        "# Get columns to keep and create new dataframe with those only\n",
        "cols = selector.get_support(indices=True)\n",
        "\n",
        "print(iris.feature_names)\n",
        "print(cols)"
      ],
      "metadata": {
        "colab": {
          "base_uri": "https://localhost:8080/"
        },
        "id": "z2RSo26Xbc2Y",
        "outputId": "b24efecc-2471-48ea-ca0b-1db02e81f3d8"
      },
      "execution_count": 3,
      "outputs": [
        {
          "output_type": "stream",
          "name": "stdout",
          "text": [
            "['sepal length (cm)', 'sepal width (cm)', 'petal length (cm)', 'petal width (cm)']\n",
            "[2 3]\n"
          ]
        }
      ]
    }
  ]
}